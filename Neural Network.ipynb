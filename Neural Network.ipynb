{
 "cells": [
  {
   "cell_type": "markdown",
   "metadata": {},
   "source": [
    "# Neural Network"
   ]
  },
  {
   "cell_type": "code",
   "execution_count": 2,
   "metadata": {},
   "outputs": [],
   "source": [
    "import numpy as np\n",
    "import pickle\n",
    "import gzip\n",
    "\n",
    "\n",
    "def load_data():\n",
    "    \"\"\"\n",
    "    MNIST comprises of three variables ->\n",
    "    Training Data:     50,000 entries\n",
    "    Validation Data:   10,000 entries\n",
    "    Test Data:         10,000 entries\n",
    "\n",
    "    One Entry of Input = 28 * 28 = 784\n",
    "    One Entry of Output = 0 - 9 {integer}\n",
    "\n",
    "    training_data   =  (inputs, outputs)     - Tuple\n",
    "    inputs.shape    =  (50,000, 784)         - Numpy Array\n",
    "    outputs.shape   =  (50,000,)             - Numpy Array\n",
    "    \"\"\"\n",
    "    f = gzip.open('mnist.pkl.gz', 'rb')\n",
    "    training_data, validation_data, test_data = pickle.load(\n",
    "        f, encoding='iso-8859-1')\n",
    "    f.close()\n",
    "    return (training_data, validation_data, test_data)\n",
    "\n",
    "\n",
    "def load_data_wrapper():\n",
    "    \"\"\"\n",
    "    It Returns Training Data, Validation Data, Test Data\n",
    "\n",
    "    Training Data is a list of 50,000 entries.\n",
    "    Each element of this list is a tuple in the form (Input, Output)\n",
    "    Shape of 1 Input : (784,1)\n",
    "    Shape of 1 Output : (10,1)\n",
    "\n",
    "    Validation Data is a list of 10,000 entries.\n",
    "    Each element of this list is a tuple in the form (Input, Output)\n",
    "    Shape of 1 Input : (784,1)\n",
    "    Shape of 1 Output : Integer\n",
    "\n",
    "    Test Data is a list of 10,000 entries.\n",
    "    Each element of this list is a tuple in the form (Input, Output)\n",
    "    Shape of 1 Input : (784,1)\n",
    "    Shape of 1 Output : Integer\n",
    "    \"\"\"\n",
    "    tr_d, va_d, te_d = load_data()\n",
    "    training_inputs = [np.reshape(x, (784, 1)) for x in tr_d[0]]\n",
    "    training_results = [vectorized_result(y) for y in tr_d[1]]\n",
    "    training_data = list(zip(training_inputs, training_results))\n",
    "    validation_inputs = [np.reshape(x, (784, 1)) for x in va_d[0]]\n",
    "    validation_data = list(zip(validation_inputs, va_d[1]))\n",
    "    test_inputs = [np.reshape(x, (784, 1)) for x in te_d[0]]\n",
    "    test_data = list(zip(test_inputs, te_d[1]))\n",
    "    return (training_data, validation_data, test_data)\n",
    "\n",
    "\n",
    "def vectorized_result(j):\n",
    "    \"\"\"\n",
    "    Return a 10 bit vectorized result of a number.\n",
    "    \"\"\"\n",
    "    e = np.zeros((10, 1))\n",
    "    e[j] = 1.0\n",
    "    return e"
   ]
  },
  {
   "cell_type": "code",
   "execution_count": 3,
   "metadata": {},
   "outputs": [],
   "source": [
    "import numpy as np\n",
    "import random"
   ]
  },
  {
   "cell_type": "code",
   "execution_count": 4,
   "metadata": {},
   "outputs": [],
   "source": [
    "### Mathematical Functions\n",
    "def sigmoid(z):\n",
    "    return 1 / (1 + np.exp(-z))\n",
    "\n",
    "def sigmoid_prime(z):\n",
    "    return sigmoid(z) * (1 - sigmoid(z))"
   ]
  },
  {
   "cell_type": "code",
   "execution_count": 5,
   "metadata": {},
   "outputs": [],
   "source": [
    "class Network:\n",
    "    \n",
    "    def __init__(self, sizes):\n",
    "        \n",
    "        self.num_layers = len(sizes)\n",
    "        self.sizes = sizes\n",
    "        self.biases = [np.random.randn(y, 1) for y in sizes[1:]]\n",
    "        self.weights = [np.random.randn(y, x) for x, y in zip(sizes[:-1], sizes[1:])]\n",
    "        \n",
    "    def feedforward(self, a):\n",
    "        \"\"\"Returns the output value.\"\"\"\n",
    "        for w, b in zip(self.weights, self.biases):\n",
    "            z = np.dot(w, a) + b\n",
    "            a = sigmoid(z)\n",
    "        return a\n",
    "    \n",
    "    def SGD(self, training_data, epochs, mini_batch_size, eta, test_data = None):\n",
    "        if test_data:\n",
    "            n_test = len(test_data)\n",
    "        n = len(training_data)\n",
    "        for epoch in range(epochs):\n",
    "            random.shuffle(training_data)\n",
    "            mini_batches = []\n",
    "            for k in range(0, n, mini_batch_size):\n",
    "                mini_batches.append(training_data[k : k + mini_batch_size])\n",
    "            for mini_batch in mini_batches:\n",
    "                self.update_mini_batch(mini_batch, eta)\n",
    "            if test_data:\n",
    "                print('Epoch {0}: {1} / {2}'.\n",
    "                     format(epoch, self.evaluate(test_data), n_test))\n",
    "            else:\n",
    "                print('Epoch {0} complete.'.format(epoch))\n",
    "    \n",
    "    def update_mini_batch(self, mini_batch, eta):\n",
    "        sum_delta_b = [np.zeros(b.shape) for b in self.biases]\n",
    "        sum_delta_w = [np.zeros(w.shape) for w in self.weights]\n",
    "        \n",
    "        for x, y in mini_batch:\n",
    "            delta_b, delta_w = self.backprop(x, y)\n",
    "            sum_delta_b = [sdb + db \n",
    "                           for sdb, db in zip(sum_delta_b, delta_b)]\n",
    "            sum_delta_w = [sdw + dw\n",
    "                           for sdw, dw in zip(sum_delta_w, delta_w)]\n",
    "            \n",
    "        m = len(mini_batch)\n",
    "        self.biases = [b - (eta/m) * sdb\n",
    "                       for b, sdb in zip(self.biases, sum_delta_b)]\n",
    "        self.weights = [w - (eta/m) * sdw\n",
    "                        for w, sdw in zip(self.weights, sum_delta_w)]\n",
    "    \n",
    "                      \n",
    "    def backprop(self, x, y):\n",
    "        delta_b = [np.zeros(b.shape) for b in self.biases]\n",
    "        delta_w = [np.zeros(w.shape) for w in self.weights]\n",
    "        \n",
    "        # forward pass\n",
    "        activation = x\n",
    "        activations = [x]\n",
    "        zs = []\n",
    "        for b, w in zip(self.biases, self.weights):\n",
    "            z = np.dot(w, activation) + b\n",
    "            zs.append(z)\n",
    "            activation = sigmoid(z)\n",
    "            activations.append(activation)\n",
    "            \n",
    "        # backward pass\n",
    "        delta = (activations[-1] - y) * sigmoid_prime(zs[-1])\n",
    "        delta_b[-1] = delta\n",
    "        delta_w[-1] = np.dot(delta, activations[-2].transpose())\n",
    "        for l in range(2, self.num_layers):\n",
    "            z = zs[-l]\n",
    "            delta = np.dot(self.weights[-l+1].transpose(), delta) * sigmoid_prime(z)\n",
    "            delta_b[-l] = delta\n",
    "            delta_w[-l] = np.dot(delta, activations[-l-1].transpose())\n",
    "            \n",
    "        return (delta_b, delta_w)\n",
    "        \n",
    "    def evaluate(self, test_data):\n",
    "        result = 0\n",
    "        for x, y in test_data:\n",
    "            y_hat = np.argmax(self.feedforward(x))\n",
    "            if (y_hat == y):\n",
    "                result += 1\n",
    "        return result        "
   ]
  },
  {
   "cell_type": "code",
   "execution_count": 9,
   "metadata": {},
   "outputs": [],
   "source": [
    "net = Network([784, 100, 60, 10])"
   ]
  },
  {
   "cell_type": "code",
   "execution_count": 10,
   "metadata": {},
   "outputs": [],
   "source": [
    "training_data, validation_data, test_data = load_data_wrapper()"
   ]
  },
  {
   "cell_type": "code",
   "execution_count": 11,
   "metadata": {},
   "outputs": [
    {
     "name": "stdout",
     "output_type": "stream",
     "text": [
      "Epoch 0: 8283 / 10000\n",
      "Epoch 1: 8455 / 10000\n",
      "Epoch 2: 8515 / 10000\n",
      "Epoch 3: 8580 / 10000\n",
      "Epoch 4: 8628 / 10000\n",
      "Epoch 5: 8632 / 10000\n",
      "Epoch 6: 8673 / 10000\n",
      "Epoch 7: 8652 / 10000\n",
      "Epoch 8: 8670 / 10000\n",
      "Epoch 9: 8701 / 10000\n"
     ]
    }
   ],
   "source": [
    "net.SGD(training_data, 10, 30, 3.0, test_data = test_data)"
   ]
  },
  {
   "cell_type": "code",
   "execution_count": 13,
   "metadata": {},
   "outputs": [],
   "source": [
    "poornet = Network([784, 10])"
   ]
  },
  {
   "cell_type": "code",
   "execution_count": 14,
   "metadata": {},
   "outputs": [
    {
     "name": "stdout",
     "output_type": "stream",
     "text": [
      "Epoch 0: 5280 / 10000\n",
      "Epoch 1: 5560 / 10000\n",
      "Epoch 2: 5614 / 10000\n",
      "Epoch 3: 5656 / 10000\n",
      "Epoch 4: 6032 / 10000\n",
      "Epoch 5: 6389 / 10000\n",
      "Epoch 6: 6429 / 10000\n",
      "Epoch 7: 6440 / 10000\n",
      "Epoch 8: 7232 / 10000\n",
      "Epoch 9: 7268 / 10000\n"
     ]
    }
   ],
   "source": [
    "poornet.SGD(training_data, 10, 32, 3.0, test_data = test_data)"
   ]
  },
  {
   "cell_type": "code",
   "execution_count": null,
   "metadata": {},
   "outputs": [],
   "source": []
  }
 ],
 "metadata": {
  "kernelspec": {
   "display_name": "Python 3",
   "language": "python",
   "name": "python3"
  },
  "language_info": {
   "codemirror_mode": {
    "name": "ipython",
    "version": 3
   },
   "file_extension": ".py",
   "mimetype": "text/x-python",
   "name": "python",
   "nbconvert_exporter": "python",
   "pygments_lexer": "ipython3",
   "version": "3.6.4"
  }
 },
 "nbformat": 4,
 "nbformat_minor": 2
}
